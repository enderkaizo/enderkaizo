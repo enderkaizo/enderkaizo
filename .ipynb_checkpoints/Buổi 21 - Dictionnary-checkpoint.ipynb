{
 "cells": [
  {
   "cell_type": "markdown",
   "id": "a20f121d",
   "metadata": {},
   "source": [
    "# Dictionnary\n",
    "\n",
    "Dictionnary là một dạng list đặc biệt, nó khác list ở chỗ không lưu trữ các giá trị theo chỉ số vị trí, thay vào đó Dictionary sẽ lưu trữ các giá trị theo key\n",
    "\n",
    "##### Tài liệu tham khảo: https://www.w3schools.com/python/python_dictionaries.asp\n",
    "\n",
    "### Khai báo một dictionary\n",
    "\n",
    "Cú pháp:\n",
    "\n",
    "`<tên dictionary> = {}`\n",
    "\n",
    "### Dictionary được khai báo bằng hai dấu hoặc nhọn\n",
    "\n",
    "Đây là một dictionary rỗng\n",
    "\n",
    "<b>Ví dụ 1:</b>\n",
    "\n",
    "`a = {}`\n",
    "\n",
    "a là một dictionary rỗng\n",
    "\n",
    "<b>Ví dụ 2:</b>\n",
    "\n",
    "`a = {\"tên\": \"Nguyễn Tâm Điền\", \"tuổi\": 13, \"giới tính\": \"Nam\"}`\n",
    "\n",
    "b là một dictionary có 3 key, mõi key đều có một giá trị riêng biệt\n",
    "\n",
    "Key có thể mang kiểu dữ liệu là chuỗi hoặc số\n",
    "\n",
    "##### Mỗi một key đều phải có giá trị của riêng nó, không thể khai báo key không có giá trị\n",
    "\n",
    "<b>Hãy khai báo một dictionary có 3 phần tử</b>"
   ]
  },
  {
   "cell_type": "code",
   "execution_count": 14,
   "id": "d835f461",
   "metadata": {},
   "outputs": [
    {
     "name": "stdout",
     "output_type": "stream",
     "text": [
      "Nguyễn Tâm Điền\n"
     ]
    }
   ],
   "source": [
    "D = {\"tên\": \"Nguyễn Tâm Điền\", \"tuổi\": 13, \"giới tính\": \"Nam\"}\n",
    "print(D['tên'])"
   ]
  },
  {
   "cell_type": "markdown",
   "id": "be1e321c",
   "metadata": {},
   "source": [
    "### Thêm key vào dictionary\n",
    "\n",
    "Cú pháp:\n",
    "\n",
    "`<tên dictionary>[<key>] = <giá trị>`\n",
    "\n",
    "<b>Ví dụ 1:</b>\n",
    "\n",
    "`a = {}\n",
    "a[\"tên\"] = \"NTD\"`\n",
    "\n",
    "a là một dictionary có một phần tử, phần tử đó có key là \"tên\" và giá trị của key đó là \"NTD\"\n",
    "\n",
    "##### Lưu ý, nếu trong trường hợp đã tồn tại key trong dictionary, dùng lệnh trên sẽ thay đổi giá trị key đó (không phải thêm key khác vào)\n",
    "\n",
    "<b>Ví dụ 2:</b>\n",
    "\n",
    "`a = {}\n",
    "a[\"tên\"] = \"NTD\"\n",
    "a[\"tên\"] = \"Nguyễn Tâm Điền\"`\n",
    "\n",
    "a vẫn là một dictionary có một phần tử, phần tử đó có key là \"tên\" và giá trị của key đó là \"Nguyễn Tâm Điền\"\n",
    "\n",
    "<b>Hãy khai báo một dictionary không có phần tử nào, sau đó thêm một phần tử vào dictionary đó</b>"
   ]
  },
  {
   "cell_type": "code",
   "execution_count": 3,
   "id": "7573ebef",
   "metadata": {},
   "outputs": [
    {
     "name": "stdout",
     "output_type": "stream",
     "text": [
      "{'Hi': 'xin chào', 3: 'xin chào'}\n"
     ]
    }
   ],
   "source": [
    "D_demo = {}\n",
    "D_demo['Hi'] = 'hello'\n",
    "D_demo['Hi'] = 'xin chào'\n",
    "D_demo[3] = 'xin chào'\n",
    "print(D_demo)"
   ]
  },
  {
   "cell_type": "markdown",
   "id": "65c98825",
   "metadata": {},
   "source": [
    "### Truy xuất phần tử trong dictionary\n",
    "\n",
    "Cú pháp:\n",
    "\n",
    "`<tên dictionary>[<key>]`\n",
    "\n",
    "<b>Ví dụ:</b>\n",
    "\n",
    "`a = {\"tên\": \"Nguyễn Tâm Điền\", \"tuổi\": 13, \"giới tính\": \"Nam\"}\n",
    "print(a[\"tên\"])`\n",
    "\n",
    "Màn hình sẽ in: Nguyễn Tâm Điền\n",
    "\n",
    "<b>Hãy khai báo một dictionary rồi in ra màn hình một phần tử bất kỳ trong dictionary đó</b>"
   ]
  },
  {
   "cell_type": "code",
   "execution_count": null,
   "id": "f6159385",
   "metadata": {},
   "outputs": [],
   "source": []
  },
  {
   "cell_type": "markdown",
   "id": "afa92f87",
   "metadata": {},
   "source": [
    "### Sao chép dictionary\n",
    "\n",
    "##### Việc sao chép dictionary được thực hiện hệt như sao chép list, chúng ta cần phải sử dụng lệnh copy()"
   ]
  },
  {
   "cell_type": "markdown",
   "id": "ef7e800d",
   "metadata": {},
   "source": [
    "### Duyệt dictionary bằng lệnh for\n",
    "\n",
    "Cú pháp:\n",
    "\n",
    "`for <tên biến> in <tên dictionary>:`\n",
    "\n",
    "Biến sẽ có giá trị là từng key trong dictionary\n",
    "\n",
    "<b>Ví dụ:</b>\n",
    "\n",
    "`a = {\"tên\": \"Nguyễn Tâm Điền\", \"tuổi\": 13, \"giới tính\": \"Nam\"}\n",
    "for i in a:\n",
    "    print(i)`\n",
    "    \n",
    "Màn hình sẽ in ra:\n",
    "\n",
    "tên\n",
    "\n",
    "tuổi\n",
    "\n",
    "giới tính\n",
    "\n",
    "<b>Hãy khai báo một dictionary rồi in ra màn hình toàn bộ giá trị trong dictionary đó</b>"
   ]
  },
  {
   "cell_type": "code",
   "execution_count": 15,
   "id": "3bdd1508",
   "metadata": {},
   "outputs": [
    {
     "name": "stdout",
     "output_type": "stream",
     "text": [
      "tên Nguyễn Tâm Điền\n",
      "tuổi 13\n",
      "giới tính Nam\n"
     ]
    }
   ],
   "source": [
    "D = {\"tên\": \"Nguyễn Tâm Điền\", \"tuổi\": 13, \"giới tính\": \"Nam\"}\n",
    "for i in D:\n",
    "    print(i,D[i])\n",
    "    "
   ]
  },
  {
   "cell_type": "markdown",
   "id": "1982f4b1",
   "metadata": {},
   "source": [
    "### Bài tập"
   ]
  },
  {
   "cell_type": "markdown",
   "id": "3060a950",
   "metadata": {},
   "source": [
    "Viết chương trình đếm số lần xuất hiện của một từ trong một văn bản nhất định"
   ]
  },
  {
   "cell_type": "code",
   "execution_count": null,
   "id": "af64832c",
   "metadata": {},
   "outputs": [],
   "source": []
  },
  {
   "cell_type": "markdown",
   "id": "57c6f1e7",
   "metadata": {},
   "source": [
    "Viết chương trình cho phép người dùng quản lý sản phẩm, gồm các chức năng sau: \n",
    "\n",
    "- Hiển thị danh sách sản phẩm\n",
    "- Thêm sản phẩm mới vào danh sách\n",
    "- Sửa tên của sản phẩm trong danh sách\n",
    "- Xoá một sản phẩm khỏi danh sách"
   ]
  },
  {
   "cell_type": "code",
   "execution_count": null,
   "id": "8541b8c3",
   "metadata": {},
   "outputs": [
    {
     "name": "stdout",
     "output_type": "stream",
     "text": [
      "Nhập H nếu bạn muốn hiển thị danh sách sản phẩm\n",
      "Nhập T nếu bạn muốn thêm sản phẩm\n",
      "Nhập S nếu bạn muốn sửa sản phẩm\n",
      "Nhập X nếu bạn muốn xóa sản phẩm\n",
      "Nhập 0 nếu bạn muốn dừng chương trình\n",
      "Lệnh của bạn:X\n",
      "Vui lòng nhập id sản phẩm cần sửa:\n",
      "SP01\n",
      "Nhập H nếu bạn muốn hiển thị danh sách sản phẩm\n",
      "Nhập T nếu bạn muốn thêm sản phẩm\n",
      "Nhập S nếu bạn muốn sửa sản phẩm\n",
      "Nhập X nếu bạn muốn xóa sản phẩm\n",
      "Nhập 0 nếu bạn muốn dừng chương trình\n",
      "Lệnh của bạn:H\n",
      "---------------------------------------\n",
      "\n",
      "\n",
      "SP02: Cơm sườn\n",
      "\n",
      "\n",
      "---------------------------------------\n",
      "Nhập H nếu bạn muốn hiển thị danh sách sản phẩm\n",
      "Nhập T nếu bạn muốn thêm sản phẩm\n",
      "Nhập S nếu bạn muốn sửa sản phẩm\n",
      "Nhập X nếu bạn muốn xóa sản phẩm\n",
      "Nhập 0 nếu bạn muốn dừng chương trình\n"
     ]
    }
   ],
   "source": [
    "def hienthisanpham():\n",
    "    ### Hiển thị sản phẩm theo dạng như sau:\n",
    "    ### ---------------------------------------\n",
    "    ###                      \n",
    "    ### SP01: Cơm gà\n",
    "    ### SP02: Cơm sườn\n",
    "    ###         \n",
    "    ### ---------------------------------------\n",
    "    print(\"---------------------------------------\\n\\n\")\n",
    "    for i in D_sanpham:\n",
    "        print(i +\": \" + D_sanpham[i])\n",
    "    print(\"\\n\\n---------------------------------------\")\n",
    "    \n",
    "def kt_format(id_sp):\n",
    "    if len(id_sp) != 4:\n",
    "        return False\n",
    "    if id_sp[:2] != \"SP\":\n",
    "        return False\n",
    "    if not id_sp[2:].isnumeric():\n",
    "        return False\n",
    "    return True\n",
    "\n",
    "def themsanpham():\n",
    "    ### Yêu cầu người dùng nhập id sản phẩm\n",
    "    ### Người dùng phải nhập đúng dạng SPXX, nếu nhập sai yêu cầu nhập lại\n",
    "    ### Nếu người dùng nhập đúng dạng, thì kiểm tra xem ID đã tồn tại trong danh sách sản phẩm\n",
    "    ### Nếu như ID đã tồn tại, yêu cầu người dùng nhập lại\n",
    "    ### Trong quá trình nhập, nếu người dùng muốn thoát chức năng thêm sản phẩm thì nhập 0\n",
    "    ### Nếu người dùng nhập ID chưa tồn tại thì yêu cầu người dùng nhập tên sản phẩm\n",
    "    ### Sau khi người dùng nhập tên sản phẩm thì thêm sản phẩm vào danh sách sản phẩm\n",
    "    id_sp = input(\"Nhập id sản phẩm:\")\n",
    "    while not kt_format(id_sp) or id_sp in D_sanpham:\n",
    "        if id_sp == \"0\":\n",
    "            return\n",
    "        print(\"Bạn vui lòng nhập đúng format SPXX và chắc chắn là id này chưa tồn tại trong danh sách!\")\n",
    "        id_sp = input(\"Nhập id sản phẩm:\")\n",
    "    name = input(\"Nhập tên sản phẩm:\")\n",
    "    D_sanpham[id_sp] = name\n",
    "\n",
    "def suatensanpham():\n",
    "    print(\"Vui lòng nhập id sản phẩm cần sửa:\")\n",
    "    ID1 = input()\n",
    "    while ID1 not in D_sanpham:\n",
    "        if ID1 == 0:\n",
    "            return\n",
    "        print(\"Bạn vui lòng nhập đúng format SPXX và chắc chắn là id này tồn tại trong danh sách!\")\n",
    "        ID1 = input()\n",
    "    print(\"Nhập tên mới cho sản phẩm\")\n",
    "    name = input()\n",
    "    D_sanpham[ID1] = name\n",
    "\n",
    "def xoasanpham():\n",
    "    print(\"Vui lòng nhập id sản phẩm cần sửa:\")\n",
    "    IDCX = input()\n",
    "    while IDCX not in D_sanpham:\n",
    "        if IDCX == 0:\n",
    "            return\n",
    "        print(\"Bạn vui lòng nhập đúng format SPXX và chắc chắn là id này tồn tại trong danh sách!\")\n",
    "    D_sanpham.pop(IDCX)\n",
    "    \n",
    "\n",
    "D_sanpham = {\"SP01\":\"Cơm gà\",\"SP02\":\"Cơm sườn\"}\n",
    "while True:\n",
    "    print(\"Nhập H nếu bạn muốn hiển thị danh sách sản phẩm\")\n",
    "    print(\"Nhập T nếu bạn muốn thêm sản phẩm\")\n",
    "    print(\"Nhập S nếu bạn muốn sửa sản phẩm\")\n",
    "    print(\"Nhập X nếu bạn muốn xóa sản phẩm\")\n",
    "    print(\"Nhập 0 nếu bạn muốn dừng chương trình\")\n",
    "    command = input(\"Lệnh của bạn:\")\n",
    "    if command == \"H\":\n",
    "        hienthisanpham()\n",
    "    elif command == \"T\":\n",
    "        themsanpham()\n",
    "    elif command == \"S\":\n",
    "        suatensanpham()\n",
    "    elif command == \"X\":\n",
    "        xoasanpham()\n",
    "    elif command == \"0\":\n",
    "        break"
   ]
  }
 ],
 "metadata": {
  "kernelspec": {
   "display_name": "Python 3 (ipykernel)",
   "language": "python",
   "name": "python3"
  },
  "language_info": {
   "codemirror_mode": {
    "name": "ipython",
    "version": 3
   },
   "file_extension": ".py",
   "mimetype": "text/x-python",
   "name": "python",
   "nbconvert_exporter": "python",
   "pygments_lexer": "ipython3",
   "version": "3.10.7"
  }
 },
 "nbformat": 4,
 "nbformat_minor": 5
}
