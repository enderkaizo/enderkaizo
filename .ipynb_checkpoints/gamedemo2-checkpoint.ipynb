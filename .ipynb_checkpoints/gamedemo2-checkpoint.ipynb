{
 "cells": [
  {
   "cell_type": "code",
   "execution_count": 1,
   "id": "19e673a0",
   "metadata": {},
   "outputs": [],
   "source": [
    "def cl8():\n",
    "    lb1_fr33.pack_forget()\n",
    "    fr33.pack_forget()\n",
    "    fr1.pack()"
   ]
  },
  {
   "cell_type": "code",
   "execution_count": 46,
   "id": "d44c3958",
   "metadata": {},
   "outputs": [
    {
     "name": "stdout",
     "output_type": "stream",
     "text": [
      "J,h,o,n,"
     ]
    }
   ],
   "source": [
    "for l in 'Jhon':\n",
    "\n",
    "   if l == 'o':\n",
    "\n",
    "      pass\n",
    "\n",
    "   print(l, end=\",\")"
   ]
  }
 ],
 "metadata": {
  "kernelspec": {
   "display_name": "Python 3 (ipykernel)",
   "language": "python",
   "name": "python3"
  },
  "language_info": {
   "codemirror_mode": {
    "name": "ipython",
    "version": 3
   },
   "file_extension": ".py",
   "mimetype": "text/x-python",
   "name": "python",
   "nbconvert_exporter": "python",
   "pygments_lexer": "ipython3",
   "version": "3.10.7"
  }
 },
 "nbformat": 4,
 "nbformat_minor": 5
}
