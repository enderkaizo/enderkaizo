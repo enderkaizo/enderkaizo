{
 "cells": [
  {
   "cell_type": "markdown",
   "id": "73456e5e",
   "metadata": {},
   "source": [
    "# Hàm\n",
    "\n",
    "### Hàm\n",
    "\n",
    "Cú pháp:\n",
    "\n",
    "`def <tên hàm>(<tham số)>:\n",
    "    //Nội dung hàm`\n",
    "\n",
    "Gọi hàm:\n",
    "`<tên hàm>(<giá trị đầu vào>)`\n",
    "\n",
    "Ví dụ:\n",
    "\n",
    "Hãy viết 1 hàm số để tính tổng 2 số đầu vào và in nó ra màn hình"
   ]
  },
  {
   "cell_type": "code",
   "execution_count": null,
   "id": "0824b761",
   "metadata": {},
   "outputs": [],
   "source": []
  },
  {
   "cell_type": "code",
   "execution_count": 9,
   "id": "af5b9f6d",
   "metadata": {},
   "outputs": [
    {
     "name": "stdout",
     "output_type": "stream",
     "text": [
      "10\n",
      "10\n"
     ]
    }
   ],
   "source": [
    "def sum(a, b):\n",
    "    '''\n",
    "    Hàm tính tổng hai số bất kỳ\n",
    "    Arguments: a, b - (number): số bất kỳ\n",
    "    Returns: (number) - tổng hai số\n",
    "    '''\n",
    "    c = a + b\n",
    "    print(c)\n",
    "    return c\n",
    "    \n",
    "a = sum(2, 8)\n",
    "print(a)"
   ]
  },
  {
   "cell_type": "code",
   "execution_count": 13,
   "id": "b8e48d77",
   "metadata": {},
   "outputs": [
    {
     "name": "stdout",
     "output_type": "stream",
     "text": [
      "<function sum at 0x000002796B899A20>\n"
     ]
    }
   ],
   "source": [
    "sum(2, 3)\n",
    "print(sum)"
   ]
  },
  {
   "cell_type": "markdown",
   "id": "a7c39f47",
   "metadata": {},
   "source": [
    "### Giá trị trả về của hàm\n",
    "\n",
    "# return\n",
    "\n",
    "Cú pháp:\n",
    "\n",
    "`retrun <giá trị trả về>`\n",
    "\n",
    "##### Lưu ý: Sau khi thực hiện lệnh return, chương trình sẽ thoát khỏi hàm ngay lập tức (những lệnh sau đó không được thực hiện)\n",
    "\n",
    "Ví dụ:\n",
    "\n",
    "Hãy viết 1 hàm trả về giá trị trung bình của 2 số bất kỳ"
   ]
  },
  {
   "cell_type": "code",
   "execution_count": 16,
   "id": "0b527b95",
   "metadata": {},
   "outputs": [
    {
     "data": {
      "text/plain": [
       "4.0"
      ]
     },
     "execution_count": 16,
     "metadata": {},
     "output_type": "execute_result"
    }
   ],
   "source": [
    "def average(a, b):\n",
    "    '''Hàm tính giá trị trung bình của 2 số'''\n",
    "    c = (a + b)/2\n",
    "    return c\n",
    "average(3, 5)"
   ]
  },
  {
   "cell_type": "markdown",
   "id": "1d7f8db0",
   "metadata": {},
   "source": [
    "### Bài tập"
   ]
  },
  {
   "cell_type": "markdown",
   "id": "75fb488b",
   "metadata": {},
   "source": [
    "Viết hàm kiểm tra số nguyên tố"
   ]
  },
  {
   "cell_type": "code",
   "execution_count": 24,
   "id": "63701bd7",
   "metadata": {},
   "outputs": [
    {
     "name": "stdout",
     "output_type": "stream",
     "text": [
      "nhập số a:12\n"
     ]
    },
    {
     "data": {
      "text/plain": [
       "False"
      ]
     },
     "execution_count": 24,
     "metadata": {},
     "output_type": "execute_result"
    }
   ],
   "source": [
    "def songuyento(a):\n",
    "    '''Hàm chia '''\n",
    "    uoc = 1\n",
    "    dem = 0\n",
    "    while uoc <= a:\n",
    "        if a%uoc == 0:\n",
    "            dem += 1\n",
    "        uoc += 1\n",
    "    if dem == 2:\n",
    "        return True\n",
    "    else:\n",
    "        return False\n",
    "\n",
    "so = int(input(\"nhập số a:\"))\n",
    "songuyento(so)\n",
    "\n",
    "\n",
    "\n",
    "    "
   ]
  },
  {
   "cell_type": "code",
   "execution_count": 25,
   "id": "44b20bac",
   "metadata": {},
   "outputs": [
    {
     "name": "stdout",
     "output_type": "stream",
     "text": [
      "nhập số a:12\n"
     ]
    },
    {
     "data": {
      "text/plain": [
       "False"
      ]
     },
     "execution_count": 25,
     "metadata": {},
     "output_type": "execute_result"
    }
   ],
   "source": [
    "so = int(input(\"nhập số a:\"))\n",
    "songuyento(so)"
   ]
  },
  {
   "cell_type": "code",
   "execution_count": 26,
   "id": "26ad7862",
   "metadata": {},
   "outputs": [
    {
     "name": "stdout",
     "output_type": "stream",
     "text": [
      "2 3 5 7 11 13 17 19 23 29 31 37 41 43 47 53 59 61 67 71 73 79 83 89 97 101 103 107 109 113 127 131 137 139 149 151 157 163 167 173 179 181 191 193 197 199 211 223 227 229 233 239 241 251 257 263 269 271 277 281 283 293 307 311 313 317 331 337 347 349 353 359 367 373 379 383 389 397 401 409 419 421 431 433 439 443 449 457 461 463 467 479 487 491 499 503 509 521 523 541 547 557 563 569 571 577 587 593 599 601 607 613 617 619 631 641 643 647 653 659 661 673 677 683 691 701 709 719 727 733 739 743 751 757 761 769 773 787 797 809 811 821 823 827 829 839 853 857 859 863 877 881 883 887 907 911 919 929 937 941 947 953 967 971 977 983 991 997 "
     ]
    }
   ],
   "source": [
    "for i in range(1,1000,1):\n",
    "    if songuyento(i):\n",
    "        print(i, end = \" \")"
   ]
  },
  {
   "cell_type": "code",
   "execution_count": 29,
   "id": "a37c6194",
   "metadata": {},
   "outputs": [],
   "source": [
    "def prime(number):\n",
    "    if number < 2:\n",
    "        return False\n",
    "    for i in range(2,number):\n",
    "        if number %i == 0:\n",
    "            return False\n",
    "    return True\n"
   ]
  },
  {
   "cell_type": "code",
   "execution_count": 30,
   "id": "7de4e759",
   "metadata": {},
   "outputs": [
    {
     "data": {
      "text/plain": [
       "True"
      ]
     },
     "execution_count": 30,
     "metadata": {},
     "output_type": "execute_result"
    }
   ],
   "source": [
    "prime(13)\n"
   ]
  },
  {
   "cell_type": "code",
   "execution_count": 11,
   "id": "38e20a5c",
   "metadata": {},
   "outputs": [],
   "source": [
    "def ten(fullname):\n",
    "    '''Hàm chuẩn hóa họ tên'''\n",
    "    fullname = fullname.strip()\n",
    "    words = fullname.split()\n",
    "    std_name = ''\n",
    "    for word in words:\n",
    "        reword = word[0].upper()+word[1:].lower()\n",
    "        std_name += reword+' '\n",
    "    std_name = std_name[0:-1]\n",
    "    return std_name"
   ]
  },
  {
   "cell_type": "code",
   "execution_count": 12,
   "id": "78550b17",
   "metadata": {},
   "outputs": [
    {
     "name": "stdout",
     "output_type": "stream",
     "text": [
      "NHập tên:tRan   lE quoc bao\n"
     ]
    },
    {
     "data": {
      "text/plain": [
       "'Tran Le Quoc Bao'"
      ]
     },
     "execution_count": 12,
     "metadata": {},
     "output_type": "execute_result"
    }
   ],
   "source": [
    "name = str(input(\"NHập tên:\"))\n",
    "ten(name)"
   ]
  },
  {
   "cell_type": "code",
   "execution_count": 12,
   "id": "00f185b4",
   "metadata": {},
   "outputs": [],
   "source": [
    "def timso(a,b,c):\n",
    "    if a > b > c:\n",
    "        print(\"số lớn nhất:\",a)\n",
    "    elif b > a > c:\n",
    "        print(\"số lớn nhất:\",b)\n",
    "    else:\n",
    "        print(\"số lớn nhất:\",c)\n",
    "    if a < b < c:\n",
    "        print(\"số nhỏ nhất:\",a)\n",
    "    elif b < a < c:\n",
    "        print(\"số nhỏ nhất:\",b)\n",
    "    else:\n",
    "        print(\"số nhỏ nhất:\",c)"
   ]
  },
  {
   "cell_type": "code",
   "execution_count": 13,
   "id": "214550a7",
   "metadata": {},
   "outputs": [
    {
     "name": "stdout",
     "output_type": "stream",
     "text": [
      "số lớn nhất: 70\n",
      "số nhỏ nhất: 40\n"
     ]
    }
   ],
   "source": [
    "timso(50,40,70)"
   ]
  },
  {
   "cell_type": "markdown",
   "id": "221103cf",
   "metadata": {},
   "source": [
    "Nhập vào 3 điểm toán, lý, hóa\n",
    "\n",
    "Hãy viết hàm in điểm trung bung bình rồi tính điểm trung bình của toán lý, toán hóa, lý hóa và toán lý hóa"
   ]
  },
  {
   "cell_type": "code",
   "execution_count": null,
   "id": "1ba1d8ae",
   "metadata": {},
   "outputs": [],
   "source": []
  },
  {
   "cell_type": "markdown",
   "id": "50f43307",
   "metadata": {},
   "source": [
    "Viết hàm đếm số lượng từ của một chuỗi đưa vào"
   ]
  },
  {
   "cell_type": "code",
   "execution_count": null,
   "id": "be785b29",
   "metadata": {},
   "outputs": [],
   "source": []
  },
  {
   "cell_type": "markdown",
   "id": "b4adef40",
   "metadata": {},
   "source": [
    "Viết một hàm vẽ hình tròn, một hàm vẽ hình vuông và một hàm vẽ hình tam giác đều (giá trị đầu vào là a)\n",
    "\n",
    "Tất cả hàm này, bắt đầu từ 1 vị trí, sau khi vẽ ra, con trỏ sẽ tiến tới vị trí tiếp theo, cách vì đầu một khoảng a + 10 theo chiều x từ trái sang"
   ]
  },
  {
   "cell_type": "code",
   "execution_count": null,
   "id": "e405d1d4",
   "metadata": {},
   "outputs": [],
   "source": []
  }
 ],
 "metadata": {
  "kernelspec": {
   "display_name": "Python 3 (ipykernel)",
   "language": "python",
   "name": "python3"
  },
  "language_info": {
   "codemirror_mode": {
    "name": "ipython",
    "version": 3
   },
   "file_extension": ".py",
   "mimetype": "text/x-python",
   "name": "python",
   "nbconvert_exporter": "python",
   "pygments_lexer": "ipython3",
   "version": "3.10.7"
  }
 },
 "nbformat": 4,
 "nbformat_minor": 5
}
