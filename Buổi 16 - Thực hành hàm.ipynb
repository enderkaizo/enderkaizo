{
 "cells": [
  {
   "cell_type": "markdown",
   "id": "028ffec3",
   "metadata": {},
   "source": [
    "# Thực hành hàm\n",
    "\n",
    "### Bài 1\n",
    "\n",
    "Viết hàm có dữ liệu đầu vào là 2 số a và b, số nào lớn hơn thì in bảng cửu chương của số đó"
   ]
  },
  {
   "cell_type": "code",
   "execution_count": 30,
   "id": "1974966b",
   "metadata": {},
   "outputs": [
    {
     "name": "stdout",
     "output_type": "stream",
     "text": [
      "9 x 1 = 9\n",
      "9 x 2 = 18\n",
      "9 x 3 = 27\n",
      "9 x 4 = 36\n",
      "9 x 5 = 45\n",
      "9 x 6 = 54\n",
      "9 x 7 = 63\n",
      "9 x 8 = 72\n",
      "9 x 9 = 81\n",
      "9 x 10 = 90\n"
     ]
    }
   ],
   "source": [
    "def in_bang_cuu_chuong_so_lon_hon(a,b):\n",
    "    c = 1\n",
    "    so1 = a\n",
    "    so2 = b\n",
    "    if a > b:\n",
    "        for i in range(1,11,1):\n",
    "            print(so1 ,\"x\",c, \"=\",so1*c)\n",
    "            c += 1\n",
    "    else:\n",
    "        for i in range(1,11,1):\n",
    "            print(so2 ,\"x\",c, \"=\",so2*c)\n",
    "            c += 1\n",
    "        \n",
    "            \n",
    "in_bang_cuu_chuong_so_lon_hon(7,9)\n"
   ]
  },
  {
   "cell_type": "markdown",
   "id": "9de8ffaa",
   "metadata": {},
   "source": [
    "### Bài 2\n",
    "\n",
    "Viết hàm `xoachuoi` có dữ liệu đầu vào là 2 chuỗi a và b, hãy tìm trong chuỗi a có chuỗi b hay không, nếu có hãy xóa toán bộ chuỗi b trong a.\n",
    "\n",
    "Sau đó trả về chuỗi a mới\n",
    "\n",
    "Ví dụ:\n",
    "\n",
    "chuoi1 = \"xin chào các bạn, các bạn có khỏe không?\"\n",
    "\n",
    "chuoi2 = \"các bạn\"\n",
    "\n",
    "chuoi3 = xoachuoi(chuoi1,chuoi2)\n",
    "\n",
    "print(chuoi3)\n",
    "\n",
    "Kết quả in ra là:\n",
    "xin chào ,  có khỏe không"
   ]
  },
  {
   "cell_type": "code",
   "execution_count": 43,
   "id": "05de1584",
   "metadata": {},
   "outputs": [],
   "source": [
    "def xoachuoi(chuoi1,chuoi2):\n",
    "    tim = chuoi1.replace(chuoi2,\"\")\n",
    "    return tim\n"
   ]
  },
  {
   "cell_type": "code",
   "execution_count": 45,
   "id": "5a99a5c6",
   "metadata": {},
   "outputs": [
    {
     "name": "stdout",
     "output_type": "stream",
     "text": [
      "xin chào ,  có khỏe không?\n"
     ]
    }
   ],
   "source": [
    "chuoi3 = xoachuoi(\"xin chào các bạn, các bạn có khỏe không?\",\"các bạn\")\n",
    "print(chuoi3)"
   ]
  },
  {
   "cell_type": "markdown",
   "id": "d626394e",
   "metadata": {},
   "source": [
    "### Bài 3\n",
    "\n",
    "Viết hàm `kiemtramatkhau` với dữ liệu đầu vào là 1 chuỗi có công dụng như sau:\n",
    "\n",
    "Kiểm tra xem chuỗi đầu vào có phải là mật khẩu mạnh hay không, nếu có trả về True, nếu không trả về False\n",
    "\n",
    "Mật khẩu mạnh là mật khẩu phải có ít nhất 1 chữ hoa, 1 chữ thường, 1 số và 1 ký tự đặc biệt"
   ]
  },
  {
   "cell_type": "code",
   "execution_count": 102,
   "id": "875d88f5",
   "metadata": {},
   "outputs": [],
   "source": [
    "def kiemtramatkhau(mat_khau):\n",
    "    chu_hoa = 0\n",
    "    chu_thuong = 0\n",
    "    ky_tu = 0\n",
    "    so = 0\n",
    "    for i in mat_khau:\n",
    "        if i in \"QWERTYUIOPASDFGHJKLZXCVBNM\":\n",
    "            chu_hoa += 1\n",
    "        elif i in \"qwertyuiopasdfghjklzxcvbnm\":\n",
    "            chu_thuong += 1\n",
    "        elif i in \" ~!@#$%^&*()_+=-[{}];:'',.<>/?\\|` \":\n",
    "            ky_tu += 1\n",
    "        elif i in \"1234567890\":\n",
    "            so += 1\n",
    "    if chu_hoa >= 1 and chu_thuong >= 1 and ky_tu >= 1 and so >= 1:\n",
    "        return True\n",
    "    else:\n",
    "        return False"
   ]
  },
  {
   "cell_type": "code",
   "execution_count": 109,
   "id": "eac7feb6",
   "metadata": {},
   "outputs": [],
   "source": [
    "def kiemtramatkha(chuoi):\n",
    "    kt_hoa = False\n",
    "    kt_thuong = False\n",
    "    kt_so = False\n",
    "    kt_db = False\n",
    "    for i in chuoi:\n",
    "        if i.isupper():\n",
    "            kt_hoa = True\n",
    "        elif i.islower():\n",
    "            kt_thuong = True \n",
    "        elif i.isnumeric():\n",
    "            kt_so = True\n",
    "        else:\n",
    "            kt_db = True\n",
    "        if kt_hoa and kt_thuong and kt_so and kt_db:\n",
    "            return True\n",
    "    return False \n",
    "            \n"
   ]
  },
  {
   "cell_type": "code",
   "execution_count": 111,
   "id": "b8075af5",
   "metadata": {},
   "outputs": [
    {
     "data": {
      "text/plain": [
       "True"
      ]
     },
     "execution_count": 111,
     "metadata": {},
     "output_type": "execute_result"
    }
   ],
   "source": [
    "kiemtramatkhau(\"Qcbao 2006\")"
   ]
  },
  {
   "cell_type": "markdown",
   "id": "1572568f",
   "metadata": {},
   "source": [
    "### Bài 4\n",
    "\n",
    "Viết hàm có 5 dữ liệu đầu vào là 5 số nguyên, tìm giá trị lớn nhì trong 5 số đó"
   ]
  },
  {
   "cell_type": "code",
   "execution_count": 8,
   "id": "876707ae",
   "metadata": {},
   "outputs": [],
   "source": [
    "def timmaxnhi(a, b, c, d, e):\n",
    "    if b > a:\n",
    "        a, b = b, a\n",
    "    if c > a:\n",
    "        a, c = c, a\n",
    "    if d > a:\n",
    "        a, d = d, a\n",
    "    if e > a:\n",
    "        a, e = e, a\n",
    "    if c > b:\n",
    "        b, c = c, b\n",
    "    if d > b:\n",
    "        b, d = d, b\n",
    "    if e > b:\n",
    "        b, e = e, b\n",
    "    if d > c:\n",
    "        c, d = d, c\n",
    "    if e > c:\n",
    "        c, e = e, c\n",
    "    if e > d:\n",
    "        d, e = e, d\n",
    "    print(a,b,c,d,e)\n",
    "    return b"
   ]
  },
  {
   "cell_type": "code",
   "execution_count": 9,
   "id": "8edc4d00",
   "metadata": {},
   "outputs": [
    {
     "name": "stdout",
     "output_type": "stream",
     "text": [
      "7 6 4 3 2\n"
     ]
    },
    {
     "data": {
      "text/plain": [
       "6"
      ]
     },
     "execution_count": 9,
     "metadata": {},
     "output_type": "execute_result"
    }
   ],
   "source": [
    "timmaxnhi(2,3,4,7,6)"
   ]
  },
  {
   "cell_type": "markdown",
   "id": "974d7da1",
   "metadata": {},
   "source": [
    "### Bài 5\n",
    "\n",
    "Nhập vào 2 cặp tọa độ tâm đường tròn và 2 bán kính R\n",
    "\n",
    "Hãy vẽ 2 hình tròn theo tọa độ và bán kính trên (tọa độ thứ nhất và bán kính thứ nhất là hình tròn thứ nhất, tọa độ thứ 2 với bán kính thứ 2 là hình tròn thứ hai)\n",
    "\n",
    "Viết hàm kiểm tra xem 2 hình tròn trên cắt nhau bao nhiêu điểm"
   ]
  },
  {
   "cell_type": "code",
   "execution_count": null,
   "id": "f7722021",
   "metadata": {},
   "outputs": [],
   "source": []
  },
  {
   "cell_type": "markdown",
   "id": "a2157de8",
   "metadata": {},
   "source": [
    "### Bài 6\n",
    "\n",
    "Nhập vào 2 tọa độ là 2 đỉnh của một hình chữ nhật\n",
    "\n",
    "Sau đó\n",
    "\n",
    "Nhập vào tọa độ tâm đường tròn và bán kính R\n",
    "\n",
    "Hãy vẽ hình hình chữ nhật và đường tròn trên\n",
    "\n",
    "Viết hàm kiểm tra xem đường tròn trên và hình chữ nhật cắt nhau tại bao nhiêu điểm"
   ]
  },
  {
   "cell_type": "code",
   "execution_count": null,
   "id": "e0d7b1a2",
   "metadata": {},
   "outputs": [],
   "source": []
  },
  {
   "cell_type": "markdown",
   "id": "d1491579",
   "metadata": {},
   "source": [
    "### Bài 7\n",
    "\n",
    "Viết hàm kiểm tra số nguyên tố\n",
    "\n",
    "Viết hàm kiểm tra số hoàn hảo\n",
    "\n",
    "Viết hàm kiểm tra số chính phương\n",
    "\n",
    "Viết hàm kiểm tra số Armstrong\n",
    "\n",
    "Nhập vào một chuỗi, hãy lọc và tìm ra những số ở trong chuỗi (2 chữ số liền nhau là một chuỗi)\n",
    "\n",
    "Ví dụ chuỗi: \"AB25SDc5DSjjh52\"\n",
    "\n",
    "Trong chuỗi này ta có 3 số: 25, 5 và 52\n",
    "\n",
    "Sau khi lọc số, dùng các hàm trên để kiểm tra và thực hiện như sau:\n",
    "\n",
    "Cho biến S\n",
    "\n",
    "- Nếu số đó là số nguyên tố, ta thực hiện S += số đó\n",
    "- Nếu số đó là số hoàn hảo, ta thực hiện S -= số đó\n",
    "- Nếu số đó là số chính phương, ta thực hiện S /= số đó\n",
    "- Nếu đó là số Armstrong ta cho S = 0\n",
    "\n",
    "Hãy tính và in S"
   ]
  },
  {
   "cell_type": "code",
   "execution_count": 29,
   "id": "0b699e33",
   "metadata": {},
   "outputs": [],
   "source": [
    "def songuyento(a):\n",
    "    dem = 0\n",
    "    uoc = 1\n",
    "    for i in range(a):\n",
    "        if a % uoc == 0:\n",
    "            dem += 1\n",
    "        uoc += 1\n",
    "    if dem == 2:    \n",
    "        return True\n",
    "    else:\n",
    "        return False"
   ]
  },
  {
   "cell_type": "code",
   "execution_count": 76,
   "id": "35bf91fd",
   "metadata": {},
   "outputs": [],
   "source": [
    "def sohoanhao(a):\n",
    "    tong = 0\n",
    "    for uoc in range(1,a-1):\n",
    "        if a % uoc == 0:\n",
    "            tong += uoc\n",
    "            if tong > a:\n",
    "                return False\n",
    "    if tong == a:\n",
    "        return True\n",
    "    return False"
   ]
  },
  {
   "cell_type": "code",
   "execution_count": 78,
   "id": "3cc4cff6",
   "metadata": {},
   "outputs": [
    {
     "data": {
      "text/plain": [
       "True"
      ]
     },
     "execution_count": 78,
     "metadata": {},
     "output_type": "execute_result"
    }
   ],
   "source": [
    "sohoanhao(6)"
   ]
  },
  {
   "cell_type": "code",
   "execution_count": 101,
   "id": "4517b1d2",
   "metadata": {},
   "outputs": [],
   "source": [
    "def sochinhphuong(a):\n",
    "    if a**0.5 % 1 == 0:\n",
    "        return True\n",
    "    return False"
   ]
  },
  {
   "cell_type": "code",
   "execution_count": 103,
   "id": "36c632cb",
   "metadata": {},
   "outputs": [
    {
     "data": {
      "text/plain": [
       "True"
      ]
     },
     "execution_count": 103,
     "metadata": {},
     "output_type": "execute_result"
    }
   ],
   "source": [
    "sochinhphuong(9)"
   ]
  },
  {
   "cell_type": "code",
   "execution_count": null,
   "id": "bda31a6b",
   "metadata": {},
   "outputs": [],
   "source": [
    "def sorarmstrong(a):\n",
    "    a = str(a)\n",
    "    dodai = len(a)"
   ]
  },
  {
   "cell_type": "code",
   "execution_count": 31,
   "id": "fa3c67d3",
   "metadata": {},
   "outputs": [],
   "source": [
    "def KiemTraSNT(a):\n",
    "    \"\"\"Hàm kiểm tra số nguyên tố (SNT là số nguyên dương và có 2 ước là 1 & chính nó)\"\"\"\n",
    "    if a%1 != 0 or a < 0:\n",
    "        return False\n",
    "    if a < 2:\n",
    "        return False\n",
    "    for i in range(2,a):\n",
    "        if a%i != 0:\n",
    "            return True\n",
    "        else:\n",
    "            return False"
   ]
  },
  {
   "cell_type": "code",
   "execution_count": 35,
   "id": "483a58e1",
   "metadata": {},
   "outputs": [
    {
     "data": {
      "text/plain": [
       "True"
      ]
     },
     "execution_count": 35,
     "metadata": {},
     "output_type": "execute_result"
    }
   ],
   "source": [
    "KiemTraSNT(9)"
   ]
  }
 ],
 "metadata": {
  "kernelspec": {
   "display_name": "Python 3 (ipykernel)",
   "language": "python",
   "name": "python3"
  },
  "language_info": {
   "codemirror_mode": {
    "name": "ipython",
    "version": 3
   },
   "file_extension": ".py",
   "mimetype": "text/x-python",
   "name": "python",
   "nbconvert_exporter": "python",
   "pygments_lexer": "ipython3",
   "version": "3.10.7"
  }
 },
 "nbformat": 4,
 "nbformat_minor": 5
}
