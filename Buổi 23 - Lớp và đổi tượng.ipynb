{
 "cells": [
  {
   "cell_type": "markdown",
   "id": "1c805421",
   "metadata": {},
   "source": [
    "# Lớp và đối tượng\n",
    "\n",
    "### Lớp (class) là gì?\n",
    "\n",
    "Lớp (Class) là tập hợp tất cả các đối tượng có chung các thuộc tính và hành vi."
   ]
  },
  {
   "cell_type": "markdown",
   "id": "812bf15e",
   "metadata": {},
   "source": [
    "### Khai báo lớp\n",
    "\n",
    "`class <tên lớp>:\n",
    "    <khai báo biến>\n",
    "    <khai báo hàm>`\n",
    "    \n",
    "Ví dụ:\n",
    "\n",
    "`class giangvien:\n",
    "    ten = \"Nguyễn Tâm Điền\"\n",
    "    mon = \"Python căn bản\"\n",
    "    def inten(self):\n",
    "        print(self.ten)        \n",
    "dien = giangvien()\n",
    "print(dien.mon)\n",
    "dien.inten()`\n",
    "\n",
    "##### Lưu ý:\n",
    "\n",
    "- giangvien là 1 lớp\n",
    "- dien là 1 đối tượng có tất cả thuộc tính (có biến ten, mon và hàm inten) của lớp giangvien\n",
    "- inten là 1 hàm trong lớp giangvien\n",
    "- dien.mon là 1 biến trong đối tượng dien\n",
    "- dien.inten() là cách để gọi hàm inten trong đối tượng dien\n",
    "\n",
    "\n",
    "<b> Hãy chạy thử đoạn lệnh ở ví dụ: </b>"
   ]
  },
  {
   "cell_type": "code",
   "execution_count": 24,
   "id": "40598ff8",
   "metadata": {},
   "outputs": [
    {
     "name": "stdout",
     "output_type": "stream",
     "text": [
      "Hưng\n",
      "17\n",
      "nam\n",
      "vàng\n"
     ]
    }
   ],
   "source": [
    "class ConNguoi:\n",
    "    ten = \"\"\n",
    "    tuoi = 0\n",
    "    gioitinh = \"nam\"\n",
    "    mau = \"vàng\"\n",
    "    tiengngay = \"khò khò\"\n",
    "    def an(self):\n",
    "        print(\"ăn nhanh\")\n",
    "    def ngu(self):\n",
    "        print(self.ten + \"ngáy\" + self.tiengngay)\n",
    "    def doiten(self,ten):\n",
    "        self.ten = ten\n",
    "    def doituoi(self,tuoi):\n",
    "        if tuoi < 0:\n",
    "            return None\n",
    "        elif tuoi % 1 != 0:\n",
    "            return None\n",
    "        else:\n",
    "            self.tuoi = tuoi\n",
    "    def doigioitinh(self,gioitinh):\n",
    "        if gioitinh != \"nam\" and gioitinh != \"nữ\":\n",
    "            return\n",
    "        self.gioitinh = gioitinh \n",
    "        self.gioitinh = gioitinh\n",
    "    def inthongtin(self):\n",
    "        print(self.ten)\n",
    "        print(self.tuoi)\n",
    "        print(self.gioitinh)\n",
    "        print(self.mau)\n",
    "Bao = ConNguoi()\n",
    "Bao.ten = \"Bảo\"\n",
    "Bao.tuoi = 17\n",
    "Bao.doiten(\"Hưng\")\n",
    "Bao.doituoi(1.6)\n",
    "Bao.doigioitinh(\"ữ\")\n",
    "Bao.inthongtin()"
   ]
  },
  {
   "cell_type": "markdown",
   "id": "6c4daedf",
   "metadata": {},
   "source": [
    "<b> Hãy tạo 1 class hocvien với 1 biến và 1 def giúp in giá trị biến đó ra màn hình </b>"
   ]
  },
  {
   "cell_type": "code",
   "execution_count": null,
   "id": "5358318d",
   "metadata": {},
   "outputs": [],
   "source": []
  },
  {
   "cell_type": "markdown",
   "id": "b2481280",
   "metadata": {},
   "source": [
    "### Tham số self\n",
    "\n",
    "Tham số self là tham số được sử dụng khi khai báo các hàm trong lớp\n",
    "\n",
    "Tham số self miêu tả chính lớp ta đang xây dựng, giúp chúng ta sử dụng được những biến và hàm của lớp đó\n",
    "\n",
    "Ví dụ:\n",
    "\n",
    "`class giangvien:\n",
    "    ten = \"Nguyễn Tâm Điền\"\n",
    "    mon = \"Python căn bản\"\n",
    "    def doiten(self,ten):\n",
    "        self.ten = ten\n",
    "    def inten(self):\n",
    "        print(self.ten)        \n",
    "dien = giangvien()\n",
    "dien.doiten(\"NTD\")\n",
    "dien.inten()`\n",
    "\n",
    "Sau khi thực hiện đoạn code trên, giá trị của biến ten trong đối tượng dien đã bị thay đổi thành \"NTD\"\n",
    "\n",
    "<b> Hãy chạy thử đoạn lệnh ở ví dụ: </b>"
   ]
  },
  {
   "cell_type": "code",
   "execution_count": null,
   "id": "fd2f5d7c",
   "metadata": {},
   "outputs": [],
   "source": []
  },
  {
   "cell_type": "markdown",
   "id": "4dfd8d1d",
   "metadata": {},
   "source": [
    "<b> Hãy thêm 1 def vào class hocvien giúp thay đổi giá trị biến bất kỳ trong class </b>"
   ]
  },
  {
   "cell_type": "code",
   "execution_count": null,
   "id": "98d911c0",
   "metadata": {},
   "outputs": [],
   "source": []
  },
  {
   "cell_type": "markdown",
   "id": "b2909dd4",
   "metadata": {},
   "source": [
    "### Hàm \\_\\_init__\n",
    "\n",
    "Hàm \\_\\_init__ là hàm khởi tạo\n",
    "\n",
    "Ví dụ:\n",
    "\n",
    "`class giangvien:\n",
    "    def __init__(self,ten,mon):\n",
    "        self.ten = ten\n",
    "        self.mon = mon\n",
    "    def doiten(self,ten):\n",
    "        self.ten = ten\n",
    "    def inten(self):\n",
    "        print(self.ten)   \n",
    "dien = giangvien(\"Điền\",\"Python căn bản\")\n",
    "thang = giangvien(\"Thắng\",\"Python siêu cấp\")\n",
    "dien.inten()\n",
    "thang.inten()`\n",
    "\n",
    "<b> Hãy chạy thử đoạn lệnh ở ví dụ: </b>"
   ]
  },
  {
   "cell_type": "code",
   "execution_count": 1,
   "id": "f15266fb",
   "metadata": {},
   "outputs": [
    {
     "name": "stdout",
     "output_type": "stream",
     "text": [
      "bảo\n"
     ]
    }
   ],
   "source": [
    "class ConNguoi:\n",
    "    def __init__(self,ten):\n",
    "        self.tuoi = 0\n",
    "        self.ten = ten \n",
    "Bao = ConNguoi(\"bảo\")\n",
    "print(Bao.ten)"
   ]
  },
  {
   "cell_type": "markdown",
   "id": "9064cc0a",
   "metadata": {},
   "source": [
    "<b> Hãy thêm 1 def \\_\\_init__ vào class hocvien để khởi tạo tên và tuổi của học viên </b>"
   ]
  },
  {
   "cell_type": "code",
   "execution_count": 2,
   "id": "3e6a0dae",
   "metadata": {},
   "outputs": [
    {
     "name": "stdout",
     "output_type": "stream",
     "text": [
      "Tên: Hiến Thành\n",
      "Tuổi: 18\n",
      "Môn học: Python căn bản\n",
      "Điểm số: 9\n",
      "----------------\n",
      "Tên: Nguyễn Điền\n",
      "Tuổi: 18\n",
      "Môn học: Python căn bản\n",
      "Điểm số: 9\n",
      "----------------\n",
      "Tên: Trí Dũng\n",
      "Tuổi: 18\n",
      "Môn học: Python căn bản\n",
      "Điểm số: 5\n"
     ]
    }
   ],
   "source": [
    "### viết class học viên của các thuộc tính sau: tên học viên, tuổi học viên, môn học và điểm số\n",
    "##### tên học viên phải có 2 từ trở lên, trong trường hợp tên của học viên chỉ có 1 từ khi mặc định thêm họ Nguyễn cho ten\n",
    "##### tuổi học viên phải là số nguyên dương, trong trường hợp tuổi học viên không phải là số nguyên dương thì cho tuổi học\n",
    "##### viên là 18\n",
    "##### môn học của học viên phải là \"Python căn bản\" hoặc \"Phân tích dữ liệu\", nếu không phải 2 môn trên thì tên môn học sẽ\n",
    "##### là \"Python căn bản\"\n",
    "##### điểm số của học viên phải từ 0 - 10, nếu ngoài ngưỡng trên thì điểm số của học viên là 5\n",
    "\n",
    "class HocVien:\n",
    "    def __init__(self,ten,tuoi,monhoc,diemso):\n",
    "        self.D_data = {}\n",
    "        ten = ten.strip()\n",
    "        if ten.count(\" \") == 0:\n",
    "            ten = \"Nguyễn \" + ten\n",
    "        self.D_data[\"Tên\"] = ten\n",
    "        \n",
    "        if not tuoi%1 == 0 or tuoi < 0:\n",
    "            tuoi = 18\n",
    "        self.D_data[\"Tuổi\"] = tuoi\n",
    "        \n",
    "        if monhoc not in (\"Python căn bản\",\"Phân tích dữ liệu\"):\n",
    "            monhoc = \"Python căn bản\"\n",
    "        self.D_data[\"Môn học\"] = monhoc\n",
    "        \n",
    "        if not 0 <= diemso <= 10:\n",
    "            diemso = 5\n",
    "        self.D_data[\"Điểm số\"] = diemso\n",
    "    def inthongtin(self):\n",
    "        for i in self.D_data:\n",
    "            print(i + \": \" + str(self.D_data[i]))\n",
    "        #### nếu điểm >8 trả về kết quả là giỏi\n",
    "        #### ngược lại, nếu điểm >6 trả về kết quả là khá\n",
    "        #### ngược lại trả về kết quả là rớt\n",
    "            \n",
    "Thanh = HocVien(\"Hiến Thành\",18,\"Python căn bản\",9)\n",
    "Thanh.inthongtin()\n",
    "print(\"----------------\")\n",
    "Thanh = HocVien(\"Điền\",18,\"Python căn bản\",9)\n",
    "Thanh.inthongtin()\n",
    "print(\"----------------\")\n",
    "Thanh = HocVien(\"Trí Dũng\",-10,\"Python căn bản\",-5)\n",
    "Thanh.inthongtin()"
   ]
  },
  {
   "cell_type": "markdown",
   "id": "d137f2f5",
   "metadata": {},
   "source": [
    "### Bài tập"
   ]
  },
  {
   "cell_type": "markdown",
   "id": "d243726c",
   "metadata": {},
   "source": [
    "Hãy xây dựng 1 class hình tròn có các thuộc tính sau:\n",
    "\n",
    "- biến x và y chứa tọa độ tâm đường tròn\n",
    "- biến r chứa bán kính đường chọn\n",
    "- hàm draw: để vẽ đường tròn"
   ]
  },
  {
   "cell_type": "code",
   "execution_count": null,
   "id": "4121525f",
   "metadata": {},
   "outputs": [],
   "source": []
  },
  {
   "cell_type": "markdown",
   "id": "9017050f",
   "metadata": {},
   "source": [
    "Tạo một lớp phân số có các thuộc tính:\n",
    "\n",
    "- biến tử số và mẫu số\n",
    "- hàm cong: để cộng với một đối tượng khác có lớp phân số rồi trả về dối tượng có phân số mới\n",
    "- hàm tru: để trừ với một đối tượng khác có lớp phân số rồi trả về dối tượng có phân số mới\n",
    "- hàm nhan: để nhân với một đối tượng khác có lớp phân số rồi trả về dối tượng có phân số mới\n",
    "- hàm chia: để chia với một đối tượng khác có lớp phân số rồi trả về dối tượng có phân số mới\n",
    "- hàm toigian: để tối giản phân số rồi trả về dối tượng có phân số mới"
   ]
  },
  {
   "cell_type": "code",
   "execution_count": 25,
   "id": "2ae72d93",
   "metadata": {},
   "outputs": [
    {
     "name": "stdout",
     "output_type": "stream",
     "text": [
      "1/2\n",
      "2/3\n",
      "7/6\n",
      "-1/6\n"
     ]
    }
   ],
   "source": [
    "class PhanSo:\n",
    "    def __init__(self,tuso,mauso):\n",
    "        self.tuso = tuso\n",
    "        self.mauso = mauso\n",
    "    def inphanso(self):\n",
    "        print(self.tuso,\"/\",self.mauso,sep = \"\")\n",
    "    def congphanso(self,psk):\n",
    "        a = self.tuso\n",
    "        b = self.mauso\n",
    "        c = psk.tuso\n",
    "        d = psk.mauso\n",
    "        tuso_kq = a*d + b*c\n",
    "        mauso_kq = b*d\n",
    "        return PhanSo(tuso_kq,mauso_kq)\n",
    "    def truphanso(self,psk):\n",
    "        a = self.tuso\n",
    "        b = self.mauso\n",
    "        c = psk.tuso\n",
    "        d = psk.mauso\n",
    "        tuso_kqt = a*d - b*c\n",
    "        mauso_kqt = b*d\n",
    "        return PhanSo(tuso_kqt,mauso_kqt)\n",
    "    \n",
    "ps1 = PhanSo(1,2)\n",
    "ps2 = PhanSo(2,3)\n",
    "ps1.inphanso()\n",
    "ps2.inphanso()\n",
    "ps3 = ps1.congphanso(ps2)\n",
    "ps3.inphanso()\n",
    "ps4 = ps1.truphanso(ps2)\n",
    "ps4.inphanso()"
   ]
  },
  {
   "cell_type": "markdown",
   "id": "39a8cb80",
   "metadata": {},
   "source": [
    "Viết class NhanVien gồm các thuộc tính:\n",
    "\n",
    "<b> Các biến </b>\n",
    "\n",
    "- Tên\n",
    "- Tuổi\n",
    "- Địa chỉ\n",
    "- Tiền lương\n",
    "- Tổng số giờ làm\n",
    "\n",
    "<b> Các hàm </b>\n",
    "\n",
    "- nhap : Nhập các thông tin cho nhân viên từ bàn phím\n",
    "- in : In ra tất cả các thông tin của nhân viên\n",
    "- thuong: Tính toán và trả về số tiền thưởng của nhân viên theo công thức sau:\n",
    "\n",
    "    Nếu tổng số giờ làm của nhân viên >=200 thì thưởng = lương * 20%\n",
    "    \n",
    "    Nếu tổng số giờ làm của nhân viên <200 và >=100 thì thưởng = lương * 10%\n",
    "    \n",
    "    Nếu tổng số giờ làm của nhân viên <100 thì thưởng = 0"
   ]
  },
  {
   "cell_type": "code",
   "execution_count": null,
   "id": "26d12a44",
   "metadata": {},
   "outputs": [],
   "source": []
  }
 ],
 "metadata": {
  "kernelspec": {
   "display_name": "Python 3 (ipykernel)",
   "language": "python",
   "name": "python3"
  },
  "language_info": {
   "codemirror_mode": {
    "name": "ipython",
    "version": 3
   },
   "file_extension": ".py",
   "mimetype": "text/x-python",
   "name": "python",
   "nbconvert_exporter": "python",
   "pygments_lexer": "ipython3",
   "version": "3.10.7"
  }
 },
 "nbformat": 4,
 "nbformat_minor": 5
}
