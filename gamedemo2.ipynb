{
 "cells": [
  {
   "cell_type": "code",
   "execution_count": 1,
   "id": "19e673a0",
   "metadata": {},
   "outputs": [],
   "source": [
    "def cl8():\n",
    "    lb1_fr33.pack_forget()\n",
    "    fr33.pack_forget()\n",
    "    fr1.pack()"
   ]
  }
 ],
 "metadata": {
  "kernelspec": {
   "display_name": "Python 3 (ipykernel)",
   "language": "python",
   "name": "python3"
  },
  "language_info": {
   "codemirror_mode": {
    "name": "ipython",
    "version": 3
   },
   "file_extension": ".py",
   "mimetype": "text/x-python",
   "name": "python",
   "nbconvert_exporter": "python",
   "pygments_lexer": "ipython3",
   "version": "3.10.7"
  }
 },
 "nbformat": 4,
 "nbformat_minor": 5
}
